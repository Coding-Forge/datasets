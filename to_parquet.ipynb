{
 "cells": [
  {
   "cell_type": "code",
   "execution_count": 5,
   "metadata": {},
   "outputs": [],
   "source": [
    "import pandas as pd\n",
    "\n",
    "codes = pd.read_csv(\"./airport/airport_codes.csv\")\n",
    "delays = pd.read_csv(\"./airport/fligt_delays.csv\")\n",
    "codes.to_parquet(\"./tabular/airport_codes.parquet\")\n",
    "delays.to_parquet(\"./tabular/flight_delays.parquet\")"
   ]
  }
 ],
 "metadata": {
  "kernelspec": {
   "display_name": "Python 3.8.13 ('azureml')",
   "language": "python",
   "name": "python3"
  },
  "language_info": {
   "codemirror_mode": {
    "name": "ipython",
    "version": 3
   },
   "file_extension": ".py",
   "mimetype": "text/x-python",
   "name": "python",
   "nbconvert_exporter": "python",
   "pygments_lexer": "ipython3",
   "version": "3.8.13"
  },
  "orig_nbformat": 4,
  "vscode": {
   "interpreter": {
    "hash": "f0276cc0e9cb900bdda39f0320ca2c463d0a5a1313ffc4efca75520eaef48c66"
   }
  }
 },
 "nbformat": 4,
 "nbformat_minor": 2
}
